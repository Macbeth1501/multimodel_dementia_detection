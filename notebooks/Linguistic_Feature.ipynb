{
 "cells": [
  {
   "cell_type": "markdown",
   "id": "932cbf73",
   "metadata": {},
   "source": [
    "# In this file we will derive the Linguistic features from the transcripts like cue count sentence length etc\n"
   ]
  },
  {
   "cell_type": "markdown",
   "id": "b0d0762d",
   "metadata": {},
   "source": [
    "### Importing Libraries"
   ]
  },
  {
   "cell_type": "code",
   "execution_count": null,
   "id": "d73e2491",
   "metadata": {},
   "outputs": [
    {
     "ename": "",
     "evalue": "",
     "output_type": "error",
     "traceback": [
      "\u001b[1;31mRunning cells with 'Python 3.9.0' requires the ipykernel package.\n",
      "\u001b[1;31mInstall 'ipykernel' into the Python environment. \n",
      "\u001b[1;31mCommand: 'c:/Users/Rochan/AppData/Local/Programs/Python/Python39/python.exe -m pip install ipykernel -U --user --force-reinstall'"
     ]
    }
   ],
   "source": [
    "import os\n",
    "import pandas as pd\n",
    "import re\n",
    "import spacy\n",
    "\n",
    "# --- Explanation of Libraries ---\n",
    "# os: To interact with the operating system, like reading file directories.\n",
    "# pandas: The primary tool for creating and managing our data in tables (DataFrames).\n",
    "# re: Stands for Regular Expressions, which we will use to clean text from the transcripts.\n",
    "# spacy: A powerful Natural Language Processing (NLP) library. We will use it for:\n",
    "#   - Sentence segmentation (to calculate average sentence length).\n",
    "#   - Part-of-speech tagging (to identify nouns and pronouns).\n",
    "#   - Dependency parsing (to analyze sentence structure for parse tree depth).\n",
    "\n",
    "# --- Download spaCy English Model ---\n",
    "# If you haven't downloaded the spaCy English model before, you will need to run this command.\n",
    "# You can run it directly in a notebook cell by adding \"!\" at the beginning,\n",
    "# or run it in your terminal.\n",
    "# !python -m spacy download en_core_web_sm\n",
    "\n",
    "# --- Load the spaCy Model ---\n",
    "# We load the model into a variable, commonly named 'nlp'.\n",
    "try:\n",
    "    nlp = spacy.load(\"en_core_web_sm\")\n",
    "    print(\"spaCy model 'en_core_web_sm' loaded successfully.\")\n",
    "except OSError:\n",
    "    print(\"spaCy model 'en_core_web_sm' not found.\")\n",
    "    print(\"Please run: python -m spacy download en_core_web_sm\")"
   ]
  }
 ],
 "metadata": {
  "kernelspec": {
   "display_name": "Python 3",
   "language": "python",
   "name": "python3"
  },
  "language_info": {
   "name": "python",
   "version": "3.9.0"
  }
 },
 "nbformat": 4,
 "nbformat_minor": 5
}
